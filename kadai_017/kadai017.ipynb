{
  "nbformat": 4,
  "nbformat_minor": 0,
  "metadata": {
    "colab": {
      "provenance": [],
      "authorship_tag": "ABX9TyNifPuRtoyCDmzBkNIYtBUu",
      "include_colab_link": true
    },
    "kernelspec": {
      "name": "python3",
      "display_name": "Python 3"
    },
    "language_info": {
      "name": "python"
    }
  },
  "cells": [
    {
      "cell_type": "markdown",
      "metadata": {
        "id": "view-in-github",
        "colab_type": "text"
      },
      "source": [
        "<a href=\"https://colab.research.google.com/github/taniharu1229/python-basic-kadai/blob/main/kadai_017/kadai017.ipynb\" target=\"_parent\"><img src=\"https://colab.research.google.com/assets/colab-badge.svg\" alt=\"Open In Colab\"/></a>"
      ]
    },
    {
      "cell_type": "code",
      "execution_count": 1,
      "metadata": {
        "colab": {
          "base_uri": "https://localhost:8080/"
        },
        "id": "xUyl7e_EmiNq",
        "outputId": "98526e07-c180-4be7-96c5-bdce42ba0ae8"
      },
      "outputs": [
        {
          "output_type": "stream",
          "name": "stdout",
          "text": [
            "Thu Feb 20 06:10:30 PM JST 2025\n"
          ]
        }
      ],
      "source": [
        "!rm /etc/localtime\n",
        "!ln -s /usr/share/zoneinfo/Asia/Tokyo /etc/localtime\n",
        "!date"
      ]
    },
    {
      "cell_type": "code",
      "source": [
        "# timeモジュールをインポート\n",
        "import time\n",
        "\n",
        "# 現在の日時を指定したフォーマットで出力する\n",
        "print(time.strftime(\"%Y年%m月%d日%H時%M分%S秒\", time.localtime()))"
      ],
      "metadata": {
        "colab": {
          "base_uri": "https://localhost:8080/"
        },
        "id": "FVRKnXmeok3A",
        "outputId": "7224cd42-367a-45fc-bfb3-8340d14ab7e8"
      },
      "execution_count": 2,
      "outputs": [
        {
          "output_type": "stream",
          "name": "stdout",
          "text": [
            "2025年02月20日18時55分57秒\n"
          ]
        }
      ]
    },
    {
      "cell_type": "code",
      "source": [
        "# timeモジュールをインポート\n",
        "import time\n",
        "\n",
        "# 現在時刻をUNIXタイムスタンプで取得\n",
        "print(time.time())"
      ],
      "metadata": {
        "colab": {
          "base_uri": "https://localhost:8080/"
        },
        "id": "YRMuXr58pJVq",
        "outputId": "16950c82-3a97-437c-b6bb-ab3f66a3ea12"
      },
      "execution_count": 3,
      "outputs": [
        {
          "output_type": "stream",
          "name": "stdout",
          "text": [
            "1740043084.3330297\n"
          ]
        }
      ]
    },
    {
      "cell_type": "code",
      "source": [
        "# datetimeモジュールをインポート\n",
        "import datetime\n",
        "\n",
        "# 指定した日時を取得する\n",
        "date_time = datetime.datetime.strptime(\"2015-03-19 12:15:30\", \"%Y-%m-%d %H:%M:%S\")\n",
        "\n",
        "# 取得した日付date_timeの日程を特定のフォーマットで出力する\n",
        "print(date_time.strftime(\"%Y年%m月%d日%H時%M分%S秒\"))"
      ],
      "metadata": {
        "colab": {
          "base_uri": "https://localhost:8080/"
        },
        "id": "LeGTeKl6pmL5",
        "outputId": "c88b46f0-6f29-4bf8-e6f6-b9fe26a6a2c1"
      },
      "execution_count": 7,
      "outputs": [
        {
          "output_type": "stream",
          "name": "stdout",
          "text": [
            "2015年03月19日12時15分30秒\n"
          ]
        }
      ]
    },
    {
      "cell_type": "code",
      "source": [
        "import datetime\n",
        "\n",
        "# 指定した日時を取得する\n",
        "date_time = datetime.datetime.strptime(\"2015-03-19 12:15:30\", \"%Y-%m-%d %H:%M:%S\")\n",
        "\n",
        "print(date_time)\n",
        "\n",
        "# 年,月,日,時,分,秒だけをそれぞれ取り出すことも可能\n",
        "print(date_time.year)\n",
        "print(date_time.month)\n",
        "print(date_time.day)\n",
        "print(date_time.hour)\n",
        "print(date_time.minute)\n",
        "print(date_time.second)"
      ],
      "metadata": {
        "colab": {
          "base_uri": "https://localhost:8080/"
        },
        "id": "kEkGInXerh2_",
        "outputId": "89318ce6-cf8e-460c-ac08-5f432911a872"
      },
      "execution_count": 8,
      "outputs": [
        {
          "output_type": "stream",
          "name": "stdout",
          "text": [
            "2015-03-19 12:15:30\n",
            "2015\n",
            "3\n",
            "19\n",
            "12\n",
            "15\n",
            "30\n"
          ]
        }
      ]
    },
    {
      "cell_type": "code",
      "source": [
        "import datetime\n",
        "\n",
        "# 現在時刻を取得する\n",
        "now = datetime.datetime.now()\n",
        "\n",
        "# 指定した日時を取得する\n",
        "date_time = datetime.datetime.strptime(\"2015-03-19 12:15:30\", \"%Y-%m-%d %H:%M:%S\")\n",
        "\n",
        "# 2つのdatetimeの差を取得し、変数intervalに代入する(interval=間隔)\n",
        "interval = now - date_time\n",
        "\n",
        "# 取得した日時の差を特定のフォーマットで出力する\n",
        "print(f\"総日数は{interval.days}日です。\")"
      ],
      "metadata": {
        "colab": {
          "base_uri": "https://localhost:8080/"
        },
        "id": "TpKM_dzstH4z",
        "outputId": "a4b4fe06-4601-4b2f-a7f2-6c810df24bb8"
      },
      "execution_count": 10,
      "outputs": [
        {
          "output_type": "stream",
          "name": "stdout",
          "text": [
            "総日数は3626日です。\n"
          ]
        }
      ]
    },
    {
      "cell_type": "code",
      "source": [
        "import datetime\n",
        "\n",
        "now = datetime.datetime.now()\n",
        "\n",
        "# 1年間の日数差を変数td_1yに代入する\n",
        "td_1y = datetime.timedelta(days=365)\n",
        "\n",
        "# 現在の日時に1年を加算し、変数addに代入する\n",
        "add = now + td_1y\n",
        "\n",
        "# 3日間の日数差を変数td_3dに代入する\n",
        "td_3d = datetime.timedelta(days=3)\n",
        "\n",
        "# 現在の日時から3日を減算し、変数subに代入する(sub=「減算」を意味するsubtractionの略)\n",
        "sub = now - td_3d\n",
        "\n",
        "# 加算・減算した日時を特定のフォーマットで出力する\n",
        "print(add.strftime(\"現在から1年後は%Y年%d月%M日%H時%M分%S秒です。\"))\n",
        "print(sub.strftime(\"現在から3日前は%Y年%m月%d日%H時%M分%S秒です。\"))"
      ],
      "metadata": {
        "colab": {
          "base_uri": "https://localhost:8080/"
        },
        "id": "sz2wyE98urez",
        "outputId": "83451310-5b5e-43fc-da8f-6547212b7b79"
      },
      "execution_count": 3,
      "outputs": [
        {
          "output_type": "stream",
          "name": "stdout",
          "text": [
            "現在から1年後は2026年20月56日18時56分07秒です。\n",
            "現在から3日前は2025年02月17日18時56分07秒です。\n"
          ]
        }
      ]
    },
    {
      "cell_type": "code",
      "source": [
        "class Human:\n",
        "  def __init__(self, name, age):\n",
        "    self.name = name\n",
        "    self.age = age\n",
        "\n",
        "  def check_adult(self):\n",
        "      if self.age >= 20:\n",
        "        print(f\"{self.name}は成年しています。\")\n",
        "      else:\n",
        "        print(f\"{self.name}は未成年です。\")\n",
        "\n",
        "human1 = Human(\"侍太郎\", 30)\n",
        "human2 = Human(\"侍一郎\", 25)\n",
        "human3 = Human(\"侍花子\", 22)\n",
        "human4 = Human(\"侍二郎\", 19)\n",
        "\n",
        "Humans = [human1, human2, human3, human4]\n",
        "\n",
        "for human in Humans:\n",
        "  human.check_adult()"
      ],
      "metadata": {
        "colab": {
          "base_uri": "https://localhost:8080/"
        },
        "id": "4X3Qva2rxi1D",
        "outputId": "1a61cfa9-54e2-43d8-dcf4-6d1362484ba5"
      },
      "execution_count": 24,
      "outputs": [
        {
          "output_type": "stream",
          "name": "stdout",
          "text": [
            "侍太郎は成年しています。\n",
            "侍一郎は成年しています。\n",
            "侍花子は成年しています。\n",
            "侍二郎は未成年です。\n"
          ]
        }
      ]
    },
    {
      "cell_type": "code",
      "source": [],
      "metadata": {
        "id": "6lc-YYSrAUa-"
      },
      "execution_count": null,
      "outputs": []
    }
  ]
}